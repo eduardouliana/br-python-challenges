{
  "nbformat": 4,
  "nbformat_minor": 0,
  "metadata": {
    "anaconda-cloud": {},
    "kernelspec": {
      "display_name": "Python 3",
      "language": "python",
      "name": "python3"
    },
    "language_info": {
      "codemirror_mode": {
        "name": "ipython",
        "version": 3
      },
      "file_extension": ".py",
      "mimetype": "text/x-python",
      "name": "python",
      "nbconvert_exporter": "python",
      "pygments_lexer": "ipython3",
      "version": "3.6.5"
    },
    "colab": {
      "name": "Desafio 10.ipynb",
      "provenance": [],
      "include_colab_link": true
    }
  },
  "cells": [
    {
      "cell_type": "markdown",
      "metadata": {
        "id": "view-in-github",
        "colab_type": "text"
      },
      "source": [
        "<a href=\"https://colab.research.google.com/github/eduardouliana/br-python-challenges/blob/master/Desafio_10.ipynb\" target=\"_parent\"><img src=\"https://colab.research.google.com/assets/colab-badge.svg\" alt=\"Open In Colab\"/></a>"
      ]
    },
    {
      "cell_type": "markdown",
      "metadata": {
        "id": "a4-FLDRof6Jv"
      },
      "source": [
        "### Desafio 10\n",
        "\n",
        "Dada uma lista, divida-a em 3 partes iguais e reverta cada lista.\n",
        "\n",
        "Exemplo: \n",
        "\n",
        "sampleList = [11, 45, 8, 23, 14, 12, 78, 45, 89]\n",
        "\n",
        "Parte 1 [8, 45, 11]\n",
        "\n",
        "Parte 2 [12, 14, 23]\n",
        "\n",
        "Parte 3 [89, 45, 78]"
      ]
    },
    {
      "cell_type": "code",
      "metadata": {
        "id": "4p6tklJs0RgN"
      },
      "source": [
        "import numpy as np"
      ],
      "execution_count": 5,
      "outputs": []
    },
    {
      "cell_type": "code",
      "metadata": {
        "id": "IJ70pUjnf6Jw"
      },
      "source": [
        "sampleList = [11, 45, 8, 23, 14, 12, 78, 45, 89]"
      ],
      "execution_count": 1,
      "outputs": []
    },
    {
      "cell_type": "code",
      "metadata": {
        "id": "pNrXNVqf8Wc1"
      },
      "source": [
        "split_list = np.array_split(sampleList, 3)"
      ],
      "execution_count": null,
      "outputs": []
    },
    {
      "cell_type": "code",
      "metadata": {
        "id": "e92eTUDL0jGA"
      },
      "source": [
        "for lst in split_list:\r\n",
        "  print(lst[::-1])"
      ],
      "execution_count": null,
      "outputs": []
    }
  ]
}